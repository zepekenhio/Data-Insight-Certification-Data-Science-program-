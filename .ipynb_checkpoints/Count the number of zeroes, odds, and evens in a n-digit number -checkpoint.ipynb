{
 "cells": [
  {
   "cell_type": "code",
   "execution_count": 3,
   "id": "416a6380",
   "metadata": {
    "scrolled": true
   },
   "outputs": [
    {
     "name": "stdout",
     "output_type": "stream",
     "text": [
      "Entrer un nombre 6537009870\n",
      "Il y a 3 Zero, 2 nombre pair et 5 nombre impair \n"
     ]
    }
   ],
   "source": [
    "def get_numbers(digits):\n",
    "    # créer un compteur de voyelles\n",
    "    nb_zero = 0\n",
    "    nb_pair = 0\n",
    "    nb_impair = 0\n",
    "\n",
    "    # pour chaque nombre entré verifiez s'il y a des nombres impaires, paires et zero\n",
    "    for i in digits:\n",
    "        if i == 0:\n",
    "            # on ajoute un au compteur\n",
    "            nb_zero += 1\n",
    "        elif i % 2 == 0:\n",
    "            # on ajoute un au compteur\n",
    "            nb_pair += 1\n",
    "        else:\n",
    "            nb_impair += 1\n",
    "\n",
    "    # on renvoie le compteur à la fin de la fonction\n",
    "    return nb_zero, nb_pair, nb_impair\n",
    "number = input(\"Entrer un nombre \")\n",
    "digits = [int(i) for i in number]\n",
    "#print(digits)\n",
    "nb_zero, nb_pair, nb_impair = get_numbers(digits)\n",
    "\n",
    "print(\"Il y a {} Zero, {} nombre pair et {} nombre impair \".format(nb_zero,nb_pair,nb_impair))\n"
   ]
  },
  {
   "cell_type": "code",
   "execution_count": null,
   "id": "f4e1cafd",
   "metadata": {},
   "outputs": [],
   "source": []
  }
 ],
 "metadata": {
  "kernelspec": {
   "display_name": "Python 3",
   "language": "python",
   "name": "python3"
  },
  "language_info": {
   "codemirror_mode": {
    "name": "ipython",
    "version": 3
   },
   "file_extension": ".py",
   "mimetype": "text/x-python",
   "name": "python",
   "nbconvert_exporter": "python",
   "pygments_lexer": "ipython3",
   "version": "3.8.8"
  }
 },
 "nbformat": 4,
 "nbformat_minor": 5
}
